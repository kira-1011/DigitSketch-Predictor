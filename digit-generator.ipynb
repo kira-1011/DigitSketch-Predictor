{
 "cells": [
  {
   "cell_type": "code",
   "execution_count": 1,
   "id": "1bb43e20",
   "metadata": {},
   "outputs": [
    {
     "name": "stdout",
     "output_type": "stream",
     "text": [
      "pygame 2.3.0 (SDL 2.24.2, Python 3.11.2)\n",
      "Hello from the pygame community. https://www.pygame.org/contribute.html\n"
     ]
    }
   ],
   "source": [
    "import numpy as np\n",
    "from PIL import Image\n",
    "import matplotlib.pyplot as plt\n",
    "import pickle\n",
    "import pygame as pg"
   ]
  },
  {
   "cell_type": "code",
   "execution_count": 2,
   "id": "379e8dec",
   "metadata": {},
   "outputs": [],
   "source": [
    "# load digit_classifier model\n",
    "model_filename = 'digit_classifier.sav'\n",
    "digit_classifier = pickle.load(open(model_filename, 'rb'))"
   ]
  },
  {
   "cell_type": "code",
   "execution_count": 3,
   "id": "9e7c9582",
   "metadata": {},
   "outputs": [],
   "source": [
    "def processImage(path):\n",
    "    \n",
    "    image = Image.open(path)\n",
    "    image = image.resize((28,28))\n",
    "    img_array = np.asarray(image)\n",
    "   \n",
    "    # convert image to grayscale\n",
    "    img_array = np.dot(img_array[...,:3], [0.299, 0.587, 0.114])\n",
    "    \n",
    "    # invert color of image\n",
    "    img_array = 255 - img_array\n",
    "    \n",
    "    # scale the image\n",
    "    img_array = img_array / 255\n",
    "    \n",
    "    return img_array"
   ]
  },
  {
   "cell_type": "code",
   "execution_count": 4,
   "id": "e5cfa3fd",
   "metadata": {},
   "outputs": [],
   "source": [
    "def init():\n",
    "    \n",
    "    pg.init()\n",
    "    \n",
    "    screen = pg.display.set_mode([800, 600])\n",
    "    clock = pg.time.Clock()\n",
    "    is_running = True\n",
    "    mouse_down = False\n",
    "    \n",
    "    while is_running:\n",
    "        \n",
    "        x, y = pg.mouse.get_pos()\n",
    "\n",
    "        for event in pg.event.get():\n",
    "\n",
    "            # if quit event is raised exit the window\n",
    "            if event.type == pg.QUIT:\n",
    "                is_running = False\n",
    "                pg.quit()\n",
    "            \n",
    "            elif event.type == pg.MOUSEBUTTONDOWN:\n",
    "                mouse_down = True\n",
    "            \n",
    "            elif event.type == pg.MOUSEBUTTONUP:\n",
    "                mouse_down = False\n",
    "        \n",
    "        color = (255,255,255)\n",
    "        \n",
    "        # Drawing Rectangle\n",
    "        if mouse_down:\n",
    "            pg.draw.rect(screen, color, pg.Rect(x,y,25,25))\n",
    "        \n",
    "        else:\n",
    "            pg.image.save(screen, \"digit.jpeg\")\n",
    "            screen.fill('black')\n",
    "        \n",
    "        pg.display.flip()\n",
    "\n",
    "        # set fps\n",
    "        clock.tick(60.0)\n",
    "\n",
    "    return True\n"
   ]
  },
  {
   "cell_type": "code",
   "execution_count": 5,
   "id": "ade98faa",
   "metadata": {},
   "outputs": [
    {
     "ename": "error",
     "evalue": "display Surface quit",
     "output_type": "error",
     "traceback": [
      "\u001b[1;31m---------------------------------------------------------------------------\u001b[0m",
      "\u001b[1;31merror\u001b[0m                                     Traceback (most recent call last)",
      "\u001b[1;32mc:\\Users\\kirak\\OneDrive\\Desktop\\kira\\ML_Practice\\Untitled.ipynb Cell 5\u001b[0m line \u001b[0;36m1\n\u001b[1;32m----> <a href='vscode-notebook-cell:/c%3A/Users/kirak/OneDrive/Desktop/kira/ML_Practice/Untitled.ipynb#W4sZmlsZQ%3D%3D?line=0'>1</a>\u001b[0m init()\n",
      "\u001b[1;32mc:\\Users\\kirak\\OneDrive\\Desktop\\kira\\ML_Practice\\Untitled.ipynb Cell 5\u001b[0m line \u001b[0;36m3\n\u001b[0;32m     <a href='vscode-notebook-cell:/c%3A/Users/kirak/OneDrive/Desktop/kira/ML_Practice/Untitled.ipynb#W4sZmlsZQ%3D%3D?line=30'>31</a>\u001b[0m     pg\u001b[39m.\u001b[39mdraw\u001b[39m.\u001b[39mrect(screen, color, pg\u001b[39m.\u001b[39mRect(x,y,\u001b[39m25\u001b[39m,\u001b[39m25\u001b[39m))\n\u001b[0;32m     <a href='vscode-notebook-cell:/c%3A/Users/kirak/OneDrive/Desktop/kira/ML_Practice/Untitled.ipynb#W4sZmlsZQ%3D%3D?line=32'>33</a>\u001b[0m \u001b[39melse\u001b[39;00m:\n\u001b[1;32m---> <a href='vscode-notebook-cell:/c%3A/Users/kirak/OneDrive/Desktop/kira/ML_Practice/Untitled.ipynb#W4sZmlsZQ%3D%3D?line=33'>34</a>\u001b[0m     pg\u001b[39m.\u001b[39;49mimage\u001b[39m.\u001b[39;49msave(screen, \u001b[39m\"\u001b[39;49m\u001b[39mdigit.jpeg\u001b[39;49m\u001b[39m\"\u001b[39;49m)\n\u001b[0;32m     <a href='vscode-notebook-cell:/c%3A/Users/kirak/OneDrive/Desktop/kira/ML_Practice/Untitled.ipynb#W4sZmlsZQ%3D%3D?line=34'>35</a>\u001b[0m     screen\u001b[39m.\u001b[39mfill(\u001b[39m'\u001b[39m\u001b[39mblack\u001b[39m\u001b[39m'\u001b[39m)\n\u001b[0;32m     <a href='vscode-notebook-cell:/c%3A/Users/kirak/OneDrive/Desktop/kira/ML_Practice/Untitled.ipynb#W4sZmlsZQ%3D%3D?line=36'>37</a>\u001b[0m pg\u001b[39m.\u001b[39mdisplay\u001b[39m.\u001b[39mflip()\n",
      "\u001b[1;31merror\u001b[0m: display Surface quit"
     ]
    }
   ],
   "source": [
    "init()"
   ]
  },
  {
   "cell_type": "code",
   "execution_count": 6,
   "id": "6830f7c3",
   "metadata": {},
   "outputs": [
    {
     "ename": "",
     "evalue": "",
     "output_type": "error",
     "traceback": [
      "\u001b[1;31mThe Kernel crashed while executing code in the the current cell or a previous cell. Please review the code in the cell(s) to identify a possible cause of the failure. Click <a href='https://aka.ms/vscodeJupyterKernelCrash'>here</a> for more info. View Jupyter <a href='command:jupyter.viewOutput'>log</a> for further details."
     ]
    }
   ],
   "source": [
    "import numpy as np\n",
    "from PIL import Image\n",
    "import matplotlib.pyplot as plt\n",
    "import pickle\n",
    "import pygame as pg\n",
    "from tkinter import messagebox\n",
    "\n",
    "\n",
    "# load digit_classifier model\n",
    "model_filename = 'digit_classifier_modified.sav'\n",
    "digit_classifier = pickle.load(open(model_filename, 'rb'))\n",
    "\n",
    "def processImage(path):\n",
    "    \n",
    "    image = Image.open(path)\n",
    "    image = image.resize((28,28))\n",
    "    img_array = np.asarray(image)\n",
    "   \n",
    "    # convert image to grayscale\n",
    "    img_array = np.dot(img_array[...,:3], [0.299, 0.587, 0.114])\n",
    "    \n",
    "    # invert color of image\n",
    "    img_array = 255 - img_array\n",
    "    \n",
    "    # scale the image\n",
    "    img_array = img_array / 255\n",
    "    \n",
    "    return img_array\n",
    "\n",
    "def init():\n",
    "    \n",
    "    pg.init()\n",
    "    \n",
    "    screen = pg.display.set_mode([800, 600])\n",
    "    clock = pg.time.Clock()\n",
    "    is_running = True\n",
    "    mouse_down = False\n",
    "    \n",
    "    while is_running:\n",
    "        \n",
    "        x, y = pg.mouse.get_pos()\n",
    "\n",
    "        for event in pg.event.get():\n",
    "\n",
    "            # if quit event is raised exit the window\n",
    "            if event.type == pg.QUIT:\n",
    "                is_running = False\n",
    "            \n",
    "            elif event.type == pg.MOUSEBUTTONDOWN:\n",
    "                mouse_down = True\n",
    "            \n",
    "            elif event.type == pg.MOUSEBUTTONUP:\n",
    "                mouse_down = False\n",
    "            \n",
    "        \n",
    "        color = (255,255,255)\n",
    "        \n",
    "        # Drawing Rectangle\n",
    "        if mouse_down:\n",
    "            pg.draw.rect(screen, color, pg.Rect(x,y,25,25))\n",
    "        \n",
    "        # predict when space bar is pressed\n",
    "        if pg.key.get_pressed()[pg.K_SPACE]:\n",
    "\n",
    "            pg.image.save(screen, \"digit.jpeg\")\n",
    "\n",
    "            image = processImage('digit.jpeg')\n",
    "\n",
    "            plt.imshow(image)\n",
    "            y_predict = digit_classifier.predict(np.array([image]))\n",
    "            print(np.argmax(y_predict))\n",
    "\n",
    "            messagebox.showinfo(\"Predicted digit: \",str(np.argmax(y_predict)))\n",
    "\n",
    "            screen.fill('black')\n",
    "\n",
    "        \n",
    "        pg.display.flip()\n",
    "\n",
    "        # set fps\n",
    "        clock.tick(60.0)\n",
    "\n",
    "init()"
   ]
  }
 ],
 "metadata": {
  "kernelspec": {
   "display_name": "Python 3 (ipykernel)",
   "language": "python",
   "name": "python3"
  },
  "language_info": {
   "codemirror_mode": {
    "name": "ipython",
    "version": 3
   },
   "file_extension": ".py",
   "mimetype": "text/x-python",
   "name": "python",
   "nbconvert_exporter": "python",
   "pygments_lexer": "ipython3",
   "version": "3.11.2"
  }
 },
 "nbformat": 4,
 "nbformat_minor": 5
}
